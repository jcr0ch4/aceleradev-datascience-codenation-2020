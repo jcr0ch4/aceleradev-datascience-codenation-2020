{
 "cells": [
  {
   "cell_type": "markdown",
   "metadata": {},
   "source": [
    "## Objetivo\n",
    "<p>Queremos conhecer melhor nossos clientes por estado. <br>\n",
    "    Para isso, iniciamos uma análise na pontuação de crédito. \n",
    "    Para realizar a verificação inicial, precisamos de alguns valores.\n",
    "    Os valores são a média, a mediana, a moda e o desvio padrão da pontuação de crédito.</p>\n",
    "    \n",
    "## Detalhes\n",
    "A resposta deve conter os valores da média, mediana, moda e desvio padrão da pontuação de crédito para cada estado do dataset. O arquivo para submissão deve estar em formato json, conforme o arquivo exemplo “submission.json”.\n",
    "\n",
    "#### OBSERVAÇÃO: É recomendado utilizar Python e pandas para esse desafio, mas também é possível utilizar outras ferramentas e linguagens de programação.\n",
    "\n",
    "Descrição dos dados: \n",
    "- ‘id’: Identificador do cliente \n",
    "- ‘sobrenome’: Sobrenome do cliente \n",
    "- ‘pontuacao_credito’: Pontuação de crédito do cliente (quanto maior, melhor o cliente geralmente)\n",
    "- ‘estado_residencia’: Estado de residência do cliente \n",
    "- ‘genero’: Gênero do cliente \n",
    "- ‘nivel_estabilidade’: Nível de estabilidade do cliente \n",
    "- ‘saldo_conta’: Saldo disponível na conta do cliente \n",
    "- ‘numero_produtos’: Número de produtos que o cliente consome \n",
    "- ‘possui_cartao_de_credito’: Possui um cartão de crédito cadastrado \n",
    "- ‘membro_ativo’: Membro acessa e consome frequentemente\n",
    "\n",
    "Obs: Os dados são fictícios, mas tentam representar a realidade de uma base de clientes de um produto SaaS.    "
   ]
  },
  {
   "cell_type": "code",
   "execution_count": 1,
   "metadata": {},
   "outputs": [],
   "source": [
    "import pandas as pd\n",
    "import numpy as np\n",
    "import json"
   ]
  },
  {
   "cell_type": "code",
   "execution_count": 2,
   "metadata": {},
   "outputs": [
    {
     "data": {
      "text/html": [
       "<div>\n",
       "<style scoped>\n",
       "    .dataframe tbody tr th:only-of-type {\n",
       "        vertical-align: middle;\n",
       "    }\n",
       "\n",
       "    .dataframe tbody tr th {\n",
       "        vertical-align: top;\n",
       "    }\n",
       "\n",
       "    .dataframe thead th {\n",
       "        text-align: right;\n",
       "    }\n",
       "</style>\n",
       "<table border=\"1\" class=\"dataframe\">\n",
       "  <thead>\n",
       "    <tr style=\"text-align: right;\">\n",
       "      <th></th>\n",
       "      <th>mean</th>\n",
       "      <th>median</th>\n",
       "      <th>std</th>\n",
       "      <th>&lt;lambda&gt;</th>\n",
       "    </tr>\n",
       "    <tr>\n",
       "      <th>estado_residencia</th>\n",
       "      <th></th>\n",
       "      <th></th>\n",
       "      <th></th>\n",
       "      <th></th>\n",
       "    </tr>\n",
       "  </thead>\n",
       "  <tbody>\n",
       "    <tr>\n",
       "      <th>PR</th>\n",
       "      <td>648.961294</td>\n",
       "      <td>650</td>\n",
       "      <td>98.607186</td>\n",
       "      <td>850</td>\n",
       "    </tr>\n",
       "    <tr>\n",
       "      <th>RS</th>\n",
       "      <td>651.105143</td>\n",
       "      <td>650</td>\n",
       "      <td>95.136598</td>\n",
       "      <td>850</td>\n",
       "    </tr>\n",
       "    <tr>\n",
       "      <th>SC</th>\n",
       "      <td>649.537653</td>\n",
       "      <td>653</td>\n",
       "      <td>97.233493</td>\n",
       "      <td>850</td>\n",
       "    </tr>\n",
       "  </tbody>\n",
       "</table>\n",
       "</div>"
      ],
      "text/plain": [
       "                         mean  median        std  <lambda>\n",
       "estado_residencia                                         \n",
       "PR                 648.961294     650  98.607186       850\n",
       "RS                 651.105143     650  95.136598       850\n",
       "SC                 649.537653     653  97.233493       850"
      ]
     },
     "execution_count": 2,
     "metadata": {},
     "output_type": "execute_result"
    }
   ],
   "source": [
    "df_credito = pd.read_csv('desafio1.csv',usecols=['estado_residencia','pontuacao_credito'])\n",
    "df_credito.groupby('estado_residencia')['pontuacao_credito'].agg(['mean','median','std',lambda x: x.mode()[0]])"
   ]
  },
  {
   "cell_type": "code",
   "execution_count": 3,
   "metadata": {},
   "outputs": [
    {
     "data": {
      "text/html": [
       "<div>\n",
       "<style scoped>\n",
       "    .dataframe tbody tr th:only-of-type {\n",
       "        vertical-align: middle;\n",
       "    }\n",
       "\n",
       "    .dataframe tbody tr th {\n",
       "        vertical-align: top;\n",
       "    }\n",
       "\n",
       "    .dataframe thead th {\n",
       "        text-align: right;\n",
       "    }\n",
       "</style>\n",
       "<table border=\"1\" class=\"dataframe\">\n",
       "  <thead>\n",
       "    <tr style=\"text-align: right;\">\n",
       "      <th></th>\n",
       "      <th>SC</th>\n",
       "      <th>RS</th>\n",
       "      <th>PR</th>\n",
       "    </tr>\n",
       "  </thead>\n",
       "  <tbody>\n",
       "    <tr>\n",
       "      <th>moda</th>\n",
       "      <td>850.000000</td>\n",
       "      <td>850.000000</td>\n",
       "      <td>850.000000</td>\n",
       "    </tr>\n",
       "    <tr>\n",
       "      <th>mediana</th>\n",
       "      <td>653.000000</td>\n",
       "      <td>650.000000</td>\n",
       "      <td>650.000000</td>\n",
       "    </tr>\n",
       "    <tr>\n",
       "      <th>media</th>\n",
       "      <td>649.537653</td>\n",
       "      <td>651.105143</td>\n",
       "      <td>648.961294</td>\n",
       "    </tr>\n",
       "    <tr>\n",
       "      <th>desvio_padrao</th>\n",
       "      <td>97.233493</td>\n",
       "      <td>95.136598</td>\n",
       "      <td>98.607186</td>\n",
       "    </tr>\n",
       "  </tbody>\n",
       "</table>\n",
       "</div>"
      ],
      "text/plain": [
       "                       SC          RS          PR\n",
       "moda           850.000000  850.000000  850.000000\n",
       "mediana        653.000000  650.000000  650.000000\n",
       "media          649.537653  651.105143  648.961294\n",
       "desvio_padrao   97.233493   95.136598   98.607186"
      ]
     },
     "execution_count": 3,
     "metadata": {},
     "output_type": "execute_result"
    }
   ],
   "source": [
    "# Contornei o problema da moda com isso\n",
    "moda_sc = (df_credito[df_credito['estado_residencia'] == 'SC'][['pontuacao_credito']].mode())\n",
    "moda_rs = (df_credito[df_credito['estado_residencia'] == 'RS'][['pontuacao_credito']].mode())\n",
    "moda_pr = (df_credito[df_credito['estado_residencia'] == 'PR'][['pontuacao_credito']].mode())\n",
    "\n",
    "# Criando a Estrutura\n",
    "dados = [[moda_sc['pontuacao_credito'][0],moda_rs['pontuacao_credito'][0],moda_pr['pontuacao_credito'][0]],\n",
    "         [df_credito[df_credito['estado_residencia'] == 'SC'][['pontuacao_credito']].median()[0],\n",
    "          df_credito[df_credito['estado_residencia'] == 'RS'][['pontuacao_credito']].median()[0],\n",
    "          df_credito[df_credito['estado_residencia'] == 'PR'][['pontuacao_credito']].median()[0]\n",
    "         ],\n",
    "         [df_credito[df_credito['estado_residencia'] == 'SC'][['pontuacao_credito']].mean()[0],\n",
    "          df_credito[df_credito['estado_residencia'] == 'RS'][['pontuacao_credito']].mean()[0],\n",
    "          df_credito[df_credito['estado_residencia'] == 'PR'][['pontuacao_credito']].mean()[0]\n",
    "         ],\n",
    "         [df_credito[df_credito['estado_residencia'] == 'SC'][['pontuacao_credito']].std()[0],\n",
    "          df_credito[df_credito['estado_residencia'] == 'RS'][['pontuacao_credito']].std()[0],\n",
    "          df_credito[df_credito['estado_residencia'] == 'PR'][['pontuacao_credito']].std()[0]\n",
    "         ]\n",
    "        ]\n",
    "# Colunas\n",
    "colunas = ['SC','RS','PR']\n",
    "\n",
    "# Indice\n",
    "indice = ['moda','mediana','media','desvio_padrao']\n",
    "\n",
    "# Criando o DataFrame\n",
    "df = pd.DataFrame(data = dados,columns = colunas,index = indice)\n",
    "\n",
    "# Exibindo os dados\n",
    "df.head()"
   ]
  },
  {
   "cell_type": "code",
   "execution_count": 4,
   "metadata": {},
   "outputs": [],
   "source": [
    "# Gerando o arquivo\n",
    "df.to_json('submission.json')"
   ]
  },
  {
   "cell_type": "code",
   "execution_count": 5,
   "metadata": {},
   "outputs": [
    {
     "data": {
      "text/html": [
       "<div>\n",
       "<style scoped>\n",
       "    .dataframe tbody tr th:only-of-type {\n",
       "        vertical-align: middle;\n",
       "    }\n",
       "\n",
       "    .dataframe tbody tr th {\n",
       "        vertical-align: top;\n",
       "    }\n",
       "\n",
       "    .dataframe thead th {\n",
       "        text-align: right;\n",
       "    }\n",
       "</style>\n",
       "<table border=\"1\" class=\"dataframe\">\n",
       "  <thead>\n",
       "    <tr style=\"text-align: right;\">\n",
       "      <th></th>\n",
       "      <th>SC</th>\n",
       "      <th>RS</th>\n",
       "      <th>PR</th>\n",
       "    </tr>\n",
       "  </thead>\n",
       "  <tbody>\n",
       "    <tr>\n",
       "      <th>desvio_padrao</th>\n",
       "      <td>97.233493</td>\n",
       "      <td>95.136598</td>\n",
       "      <td>98.607186</td>\n",
       "    </tr>\n",
       "    <tr>\n",
       "      <th>media</th>\n",
       "      <td>649.537653</td>\n",
       "      <td>651.105143</td>\n",
       "      <td>648.961294</td>\n",
       "    </tr>\n",
       "    <tr>\n",
       "      <th>mediana</th>\n",
       "      <td>653.000000</td>\n",
       "      <td>650.000000</td>\n",
       "      <td>650.000000</td>\n",
       "    </tr>\n",
       "    <tr>\n",
       "      <th>moda</th>\n",
       "      <td>850.000000</td>\n",
       "      <td>850.000000</td>\n",
       "      <td>850.000000</td>\n",
       "    </tr>\n",
       "  </tbody>\n",
       "</table>\n",
       "</div>"
      ],
      "text/plain": [
       "                       SC          RS          PR\n",
       "desvio_padrao   97.233493   95.136598   98.607186\n",
       "media          649.537653  651.105143  648.961294\n",
       "mediana        653.000000  650.000000  650.000000\n",
       "moda           850.000000  850.000000  850.000000"
      ]
     },
     "execution_count": 5,
     "metadata": {},
     "output_type": "execute_result"
    }
   ],
   "source": [
    "df_1 = pd.read_json('submission.json')\n",
    "df_1.head(10)"
   ]
  },
  {
   "cell_type": "code",
   "execution_count": null,
   "metadata": {},
   "outputs": [],
   "source": []
  },
  {
   "cell_type": "code",
   "execution_count": null,
   "metadata": {},
   "outputs": [],
   "source": []
  }
 ],
 "metadata": {
  "kernelspec": {
   "display_name": "Python 3.8.2 64-bit ('aceleradev_ds': conda)",
   "language": "python",
   "name": "python38264bitaceleradevdsconda40f3d6bf21ff4c0793cb75ac8f555ff2"
  },
  "language_info": {
   "codemirror_mode": {
    "name": "ipython",
    "version": 3
   },
   "file_extension": ".py",
   "mimetype": "text/x-python",
   "name": "python",
   "nbconvert_exporter": "python",
   "pygments_lexer": "ipython3",
   "version": "3.8.2"
  }
 },
 "nbformat": 4,
 "nbformat_minor": 2
}
